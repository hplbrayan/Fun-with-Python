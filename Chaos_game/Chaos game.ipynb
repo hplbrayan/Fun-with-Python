{
 "cells": [
  {
   "cell_type": "code",
   "execution_count": 1,
   "id": "3a5f6d7e",
   "metadata": {},
   "outputs": [],
   "source": [
    "import numpy as np\n",
    "import matplotlib.pyplot as plt\n",
    "from matplotlib.animation import FuncAnimation\n",
    "#%matplotlib nbagg"
   ]
  },
  {
   "cell_type": "code",
   "execution_count": 2,
   "id": "7f84f838",
   "metadata": {},
   "outputs": [],
   "source": [
    "def plot_polygon(vx):\n",
    "    vx = list(np.copy(vx))\n",
    "    vx.append(vx[0])\n",
    "    vx = np.array(vx)\n",
    "    plt.plot(vx.T[0], vx.T[1])\n",
    "    plt.scatter(np.array(vx).T[0], np.array(vx).T[1])\n",
    "    \n",
    "def r_points(vx, r=1):\n",
    "    v_new_1 = [(vx[0][0] + r*vx[1][0]) / (1 + r), (vx[0][1] + r*vx[1][1])/(1 + r)]\n",
    "    v_new_2 = [(vx[1][0] + r*vx[2][0]) / (1 + r), (vx[1][1] + r*vx[2][1])/(1 + r)]\n",
    "    v_new_3 = [(vx[2][0] + r*vx[0][0]) / (1 + r), (vx[2][1] + r*vx[0][1])/(1 + r)]\n",
    "    return [v_new_1, v_new_2, v_new_3]\n",
    "\n",
    "def section_point(p0, p1, r=1):\n",
    "    return [(p0[0] + r*p1[0]) / (1 + r), (p0[1] + r*p1[1]) / (1 + r)]\n",
    "\n",
    "def higher_point(vx):\n",
    "    idxs = np.where( np.array(vx).T[1] == max(np.array(vx).T[1]) )[0]\n",
    "    print(idxs)\n",
    "    return [vx[i] for i in idxs ]"
   ]
  },
  {
   "cell_type": "markdown",
   "id": "dc30e65c",
   "metadata": {},
   "source": [
    "# Random Sierpinski triangle"
   ]
  },
  {
   "cell_type": "code",
   "execution_count": 3,
   "id": "50aefe93",
   "metadata": {},
   "outputs": [],
   "source": [
    "v0 = [[1,1], [4,4], [7,1]]\n",
    "vs = []\n",
    "p0 = [2,2]\n",
    "N  = 200\n",
    "r  = 1\n",
    "\n",
    "for _ in range(N):\n",
    "    random_v = v0[np.random.choice(range(len(v0)))]\n",
    "    r_point  = section_point(p0=p0, p1=random_v, r=r)\n",
    "    vs.append(r_point)\n",
    "    p0 = r_point"
   ]
  },
  {
   "cell_type": "code",
   "execution_count": null,
   "id": "5c1ff02c",
   "metadata": {},
   "outputs": [],
   "source": []
  },
  {
   "cell_type": "code",
   "execution_count": null,
   "id": "30a3b0df",
   "metadata": {},
   "outputs": [],
   "source": []
  }
 ],
 "metadata": {
  "kernelspec": {
   "display_name": "Python 3 (ipykernel)",
   "language": "python",
   "name": "python3"
  },
  "language_info": {
   "codemirror_mode": {
    "name": "ipython",
    "version": 3
   },
   "file_extension": ".py",
   "mimetype": "text/x-python",
   "name": "python",
   "nbconvert_exporter": "python",
   "pygments_lexer": "ipython3",
   "version": "3.9.12"
  }
 },
 "nbformat": 4,
 "nbformat_minor": 5
}
