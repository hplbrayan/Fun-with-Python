{
 "cells": [
  {
   "cell_type": "code",
   "execution_count": 147,
   "id": "eda49de1",
   "metadata": {},
   "outputs": [],
   "source": [
    "def weighted_sum(xs, ws):      \n",
    "    return sum([xs[i]*ws[i] for i in range(len(xs))])\n",
    "    \n",
    "\n",
    "def perceptron(xs, ds, weights, threshold=0.5, a=0.1):\n",
    "    \"\"\"\n",
    "    xs: with shape (x1, x2,...,xn)\n",
    "    ds: with shape (d1, d2,...,dn)\n",
    "    \"\"\"\n",
    "    \n",
    "    Ws = [weights]\n",
    "    nf = len(weights)\n",
    "    \n",
    "    while True:\n",
    "        err_count = 0\n",
    "        for row, d in zip(xs, ds):\n",
    "            ws = []\n",
    "            z = weighted_sum(row, Ws[-1])\n",
    "            \n",
    "            #Appliying stepwise activation function\n",
    "            if z<threshold: y = 0 \n",
    "            else: y = 1\n",
    "            \n",
    "            #new weights\n",
    "            for j in range(nf):\n",
    "                ws.append(Ws[-1][j] + a*(d - y)*row[j])\n",
    "                err_count += abs(d-y)\n",
    "\n",
    "            \n",
    "            Ws.append(ws)\n",
    "            print(ws)\n",
    "        print(\"--------------------\")\n",
    "        \n",
    "        \n",
    "        if err_count==0:\n",
    "            return Ws[-1]"
   ]
  },
  {
   "cell_type": "code",
   "execution_count": 150,
   "id": "45c8e83e",
   "metadata": {},
   "outputs": [],
   "source": [
    "\"\"\"xs = (1,0,0), (1,0,1), (1,1,0), (1,1,1)\n",
    "ds = 1,1,1,0\n",
    "ws = 0,0,0\"\"\"\n",
    "\n",
    "xs = (1,1), (1,0), (0,1), (0,0)\n",
    "ds = 1,0,0,0\n",
    "ws = 0,0"
   ]
  },
  {
   "cell_type": "code",
   "execution_count": 151,
   "id": "03647733",
   "metadata": {},
   "outputs": [
    {
     "name": "stdout",
     "output_type": "stream",
     "text": [
      "[0.1, 0.1]\n",
      "[0.1, 0.1]\n",
      "[0.1, 0.1]\n",
      "[0.1, 0.1]\n",
      "--------------------\n",
      "[0.2, 0.2]\n",
      "[0.2, 0.2]\n",
      "[0.2, 0.2]\n",
      "[0.2, 0.2]\n",
      "--------------------\n",
      "[0.30000000000000004, 0.30000000000000004]\n",
      "[0.30000000000000004, 0.30000000000000004]\n",
      "[0.30000000000000004, 0.30000000000000004]\n",
      "[0.30000000000000004, 0.30000000000000004]\n",
      "--------------------\n",
      "[0.30000000000000004, 0.30000000000000004]\n",
      "[0.30000000000000004, 0.30000000000000004]\n",
      "[0.30000000000000004, 0.30000000000000004]\n",
      "[0.30000000000000004, 0.30000000000000004]\n",
      "--------------------\n"
     ]
    },
    {
     "data": {
      "text/plain": [
       "[0.30000000000000004, 0.30000000000000004]"
      ]
     },
     "execution_count": 151,
     "metadata": {},
     "output_type": "execute_result"
    }
   ],
   "source": [
    "perceptron(xs=xs, ds=ds, weights=ws)"
   ]
  },
  {
   "cell_type": "code",
   "execution_count": 183,
   "id": "ffef3080",
   "metadata": {},
   "outputs": [],
   "source": [
    "def proof_perceptron(xs, ds, weights, threshold=0.5):\n",
    "    \n",
    "    title = \"\"\n",
    "    for i in range(len(xs[0])):\n",
    "        title += f\"x_{i+1}\\t\" \n",
    "    \n",
    "    title += \"d\\ty\"\n",
    "    print(title)\n",
    "    \n",
    "    for row, d in zip(xs, ds):\n",
    "        z = weighted_sum(row, weights)\n",
    "            \n",
    "        #Appliying stepwise activation function\n",
    "        if z<threshold:\n",
    "            y = 0 \n",
    "        else:\n",
    "            y = 1\n",
    "            \n",
    "        for i in range(len(weights)):\n",
    "            print(f\" {row[i]}\\t\", end=\"\")\n",
    "        \n",
    "            \n",
    "        print(\"\\t\")\n"
   ]
  },
  {
   "cell_type": "code",
   "execution_count": 184,
   "id": "a0c5026f",
   "metadata": {},
   "outputs": [
    {
     "name": "stdout",
     "output_type": "stream",
     "text": [
      "x_1\tx_2\td\ty\n",
      " 1\t 1\t\t\n",
      " 1\t 0\t\t\n",
      " 0\t 1\t\t\n",
      " 0\t 0\t\t\n"
     ]
    }
   ],
   "source": [
    "proof_perceptron(xs=xs, ds=ds, weights=[0.3,0.3])"
   ]
  },
  {
   "cell_type": "code",
   "execution_count": null,
   "id": "2f9b2299",
   "metadata": {},
   "outputs": [],
   "source": []
  },
  {
   "cell_type": "code",
   "execution_count": null,
   "id": "43ce5e94",
   "metadata": {},
   "outputs": [],
   "source": []
  }
 ],
 "metadata": {
  "kernelspec": {
   "display_name": "Python 3 (ipykernel)",
   "language": "python",
   "name": "python3"
  },
  "language_info": {
   "codemirror_mode": {
    "name": "ipython",
    "version": 3
   },
   "file_extension": ".py",
   "mimetype": "text/x-python",
   "name": "python",
   "nbconvert_exporter": "python",
   "pygments_lexer": "ipython3",
   "version": "3.9.12"
  }
 },
 "nbformat": 4,
 "nbformat_minor": 5
}
