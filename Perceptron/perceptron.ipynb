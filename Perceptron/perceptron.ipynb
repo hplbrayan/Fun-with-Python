{
 "cells": [
  {
   "cell_type": "markdown",
   "id": "fe72814b",
   "metadata": {},
   "source": [
    "# Perceptron algorithm"
   ]
  },
  {
   "cell_type": "code",
   "execution_count": 286,
   "id": "eda49de1",
   "metadata": {},
   "outputs": [],
   "source": [
    "def weighted_sum(xs, ws):   \n",
    "    return sum([xs[i]*ws[i] for i in range(len(xs))])\n",
    "    \n",
    "\n",
    "def perceptron(xs, ds, weights, threshold=0.5, a=0.1, verbose=False):\n",
    "    \"\"\"\n",
    "    Single perceptron algorithm\n",
    "    \n",
    "    xs: list/tuple\n",
    "        List or tuple of shape (x11, x12,...,x1n), (x21, x22,...,x2n), ...\n",
    "        (xm1, xm2,...,xmn) where the xn are features.\n",
    "         \n",
    "    ds: list/tuple\n",
    "        List or tuple of shape (d1, d2,...,dm) where the dm are the labels\n",
    "        for the features (xm1, xm2,...,xmn). \n",
    "    \n",
    "    weights: list/tuple\n",
    "        List or tuple of shape (w1, w2,...,wn) where the wn are the initial\n",
    "        weights for each of the n features.\n",
    "        \n",
    "    threshold: float, default 0.5\n",
    "        Threshold for the stepwise function which is used as activation fu-\n",
    "        nction. \n",
    "    \n",
    "    a: float\n",
    "        Learning ratio.\n",
    "    \n",
    "    Returns a tuple containing the weights for the perceptron. \n",
    "    \"\"\"\n",
    "    \n",
    "    #Storage the weights\n",
    "    Ws = [weights]\n",
    "    \n",
    "    #Number of features\n",
    "    nf = len(weights)\n",
    "    \n",
    "    while True:\n",
    "        #Counting the errors for each iteration, if equals 0, then\n",
    "        #the algorithm spots\n",
    "        err_count = 0\n",
    "        \n",
    "        for row, d in zip(xs, ds):\n",
    "            #Weighted sum of the features in each row\n",
    "            ws = []\n",
    "            z = weighted_sum(row, Ws[-1])\n",
    "            \n",
    "            #Appliying stepwise activation function\n",
    "            if z<threshold: y = 0 \n",
    "            else: y = 1\n",
    "            \n",
    "            #updating weights  by using w_new = w_old + a(d-y)x_j and\n",
    "            #counting the number of errors (bad classifications) with\n",
    "            #the new weights\n",
    "            for j in range(nf):\n",
    "                ws.append(Ws[-1][j] + a*(d - y)*row[j])\n",
    "                err_count += abs(d-y)\n",
    "\n",
    "            Ws.append(ws)\n",
    "            \n",
    "            if verbose: print(ws)\n",
    "        if verbose: print(\"-\"*len(f\"{ws}\"))\n",
    "            \n",
    "        if err_count==0: return Ws[-1]\n",
    "        \n",
    "        \n",
    "def proof_perceptron(xs, ds, weights, threshold=0.5):\n",
    "    \"\"\"\n",
    "    Prints a table with the features, labels and results obtained for the\n",
    "    perceptron when using \"weights\".\n",
    "    \n",
    "    xs: list/tuple\n",
    "        List or tuple of shape (x11, x12,...,x1n), (x21, x22,...,x2n), ...\n",
    "        (xm1, xm2,...,xmn) where the xn are the n features.\n",
    "         \n",
    "    ds: list/tuple\n",
    "        List or tuple of shape (d1, d2,...,dm) where the dm are the labels\n",
    "        for the features (xm1, xm2,...,xmn). \n",
    "    \n",
    "    weights: list/tuple\n",
    "        List or tuple of shape (w1, w2,...,wn) where the wn are the initial\n",
    "        weights for each of the n features.\n",
    "        \n",
    "    threshold: float, default 0.5\n",
    "        Threshold for the stepwise function which is used as activation fu-\n",
    "        nction. \n",
    "    \"\"\"\n",
    "    \n",
    "    title = \"\"\n",
    "    for i in range(len(xs[0])):\n",
    "        title += f\"x_{i+1}\\t\"\n",
    "        \n",
    "    title += \"d\\ty\"\n",
    "    print(title)\n",
    "    \n",
    "    for row, d in zip(xs, ds):\n",
    "        z = weighted_sum(row, weights)\n",
    "            \n",
    "        #Appliying stepwise activation function\n",
    "        if z<threshold: y = 0 \n",
    "        else:y = 1\n",
    "            \n",
    "        line = \"\"\n",
    "        for i in range(len(weights)):\n",
    "            line+=f\" {row[i]}\\t\"\n",
    "        line+=f\"{d}\\t{y}\"\n",
    "            \n",
    "        print(line)"
   ]
  },
  {
   "cell_type": "markdown",
   "id": "5bfd873f",
   "metadata": {},
   "source": [
    "# Proofs"
   ]
  },
  {
   "cell_type": "markdown",
   "id": "a1d1200d",
   "metadata": {},
   "source": [
    "The & function"
   ]
  },
  {
   "cell_type": "code",
   "execution_count": 289,
   "id": "14dbe2a2",
   "metadata": {},
   "outputs": [],
   "source": [
    "xs_and = (1,1), (1,0), (0,1), (0,0)\n",
    "ds_and = 1,0,0,0\n",
    "ws_and = 0,0"
   ]
  },
  {
   "cell_type": "code",
   "execution_count": 291,
   "id": "b97b2c86",
   "metadata": {},
   "outputs": [
    {
     "data": {
      "text/plain": [
       "[0.30000000000000004, 0.30000000000000004]"
      ]
     },
     "execution_count": 291,
     "metadata": {},
     "output_type": "execute_result"
    }
   ],
   "source": [
    "ws_and = perceptron(xs=xs_and, ds=ds_and, weights=ws_and)\n",
    "ws_and"
   ]
  },
  {
   "cell_type": "code",
   "execution_count": 292,
   "id": "b0dadb96",
   "metadata": {},
   "outputs": [
    {
     "name": "stdout",
     "output_type": "stream",
     "text": [
      "x_1\tx_2\td\ty\n",
      " 1\t 1\t1\t1\n",
      " 1\t 0\t0\t0\n",
      " 0\t 1\t0\t0\n",
      " 0\t 0\t0\t0\n"
     ]
    }
   ],
   "source": [
    "proof_perceptron(xs=xs_and, ds=ds_and, weights=ws_and)"
   ]
  },
  {
   "cell_type": "markdown",
   "id": "c262aa49",
   "metadata": {},
   "source": [
    "NAND function"
   ]
  },
  {
   "cell_type": "code",
   "execution_count": 294,
   "id": "45c8e83e",
   "metadata": {},
   "outputs": [],
   "source": [
    "xs_NAND = (1,0,0), (1,0,1), (1,1,0), (1,1,1)\n",
    "ds_NAND = 1,1,1,0\n",
    "ws_NAND = 0,0,0"
   ]
  },
  {
   "cell_type": "code",
   "execution_count": 295,
   "id": "03647733",
   "metadata": {},
   "outputs": [],
   "source": [
    "ws_NAND = perceptron(xs=xs_NAND, ds=ds_NAND, weights=ws_NAND)"
   ]
  },
  {
   "cell_type": "code",
   "execution_count": 296,
   "id": "a0c5026f",
   "metadata": {},
   "outputs": [
    {
     "name": "stdout",
     "output_type": "stream",
     "text": [
      "x_1\tx_2\tx_3\td\ty\n",
      " 1\t 0\t 0\t1\t1\n",
      " 1\t 0\t 1\t1\t1\n",
      " 1\t 1\t 0\t1\t1\n",
      " 1\t 1\t 1\t0\t0\n"
     ]
    }
   ],
   "source": [
    "proof_perceptron(xs=xs_NAND, ds=ds_NAND, weights=ws_NAND)"
   ]
  },
  {
   "cell_type": "markdown",
   "id": "4ca2623f",
   "metadata": {},
   "source": [
    "Classification problem"
   ]
  },
  {
   "cell_type": "code",
   "execution_count": null,
   "id": "ab4fb88e",
   "metadata": {},
   "outputs": [],
   "source": []
  }
 ],
 "metadata": {
  "kernelspec": {
   "display_name": "Python 3 (ipykernel)",
   "language": "python",
   "name": "python3"
  },
  "language_info": {
   "codemirror_mode": {
    "name": "ipython",
    "version": 3
   },
   "file_extension": ".py",
   "mimetype": "text/x-python",
   "name": "python",
   "nbconvert_exporter": "python",
   "pygments_lexer": "ipython3",
   "version": "3.9.12"
  }
 },
 "nbformat": 4,
 "nbformat_minor": 5
}
