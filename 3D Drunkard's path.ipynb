{
 "cells": [
  {
   "cell_type": "code",
   "execution_count": 64,
   "id": "0f953280",
   "metadata": {},
   "outputs": [],
   "source": [
    "import numpy as np\n",
    "import matplotlib.pyplot as plt\n",
    "from mpl_toolkits import mplot3d\n",
    "%matplotlib nbagg"
   ]
  },
  {
   "cell_type": "code",
   "execution_count": 109,
   "id": "94d1aa20",
   "metadata": {
    "scrolled": false
   },
   "outputs": [],
   "source": [
    "def plot_sphere(r=1, center=(0,0,0), plot_center=False, panels=False, alpha=0.3):\n",
    "    \"\"\"\n",
    "    The plot of a sphere with radius r and center 'center'.\n",
    "    r: float\n",
    "        The radious of the sphere. Default 1.\n",
    "    center: 3d array like\n",
    "        The center of the sphere. Default (0,0,0).    \n",
    "    plot_center: bool\n",
    "        Set to True to plot the center of the sphere. Default False.\n",
    "    panels: bool \n",
    "        Set to True to see the axis and panels containing the plot\n",
    "        otherwise just plots the sphere. Default False.\n",
    "    alpha: float [0-1]\n",
    "        Opacity of the sphere. Default 0.3.\"\"\"\n",
    "    \n",
    "    ax = plt.axes(projection=\"3d\")\n",
    "\n",
    "    #Plot using spherical coordinates\n",
    "    phi   = np.linspace(0, 2*np.pi, 100)\n",
    "    theta = np.linspace(0, np.pi, 100)\n",
    "\n",
    "    x = center[0] + r*np.outer(np.cos(phi), np.sin(theta))\n",
    "    y = center[1] + r*np.outer(np.sin(phi), np.sin(theta))\n",
    "    z = center[2] + r*np.outer(np.ones(np.size(phi)), np.cos(theta))\n",
    "\n",
    "    ax.plot_surface(x, y, z, alpha=alpha)\n",
    "    if not panels: \n",
    "        ax.set_axis_off()\n",
    "    else: \n",
    "        ax.set_xlabel(\"X\")\n",
    "        ax.set_ylabel(\"Y\")\n",
    "        ax.set_zlabel(\"Z\")\n",
    "        \n",
    "    if plot_center: ax.scatter(center[0], center[1], center[2])\n",
    "    fig.tight_layout()"
   ]
  },
  {
   "cell_type": "code",
   "execution_count": null,
   "id": "4b100b26",
   "metadata": {},
   "outputs": [],
   "source": []
  },
  {
   "cell_type": "code",
   "execution_count": null,
   "id": "24064805",
   "metadata": {},
   "outputs": [],
   "source": []
  }
 ],
 "metadata": {
  "kernelspec": {
   "display_name": "Python 3 (ipykernel)",
   "language": "python",
   "name": "python3"
  },
  "language_info": {
   "codemirror_mode": {
    "name": "ipython",
    "version": 3
   },
   "file_extension": ".py",
   "mimetype": "text/x-python",
   "name": "python",
   "nbconvert_exporter": "python",
   "pygments_lexer": "ipython3",
   "version": "3.9.12"
  }
 },
 "nbformat": 4,
 "nbformat_minor": 5
}
